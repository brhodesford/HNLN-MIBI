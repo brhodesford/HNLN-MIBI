{
 "cells": [
  {
   "cell_type": "markdown",
   "id": "2e6a6641-744f-4d7b-878d-1f62c638e001",
   "metadata": {},
   "source": [
    "# Script to make contour plot in python and overlay with raw signal\n",
    "Rhodes Ford\n",
    "Started Feb 6, 2024"
   ]
  },
  {
   "cell_type": "code",
   "execution_count": 1,
   "id": "8d0fbcfe-4086-4a92-8bcc-9e5f67359d85",
   "metadata": {
    "tags": []
   },
   "outputs": [],
   "source": [
    "# import needed libraries\n",
    "\n",
    "import os\n",
    "\n",
    "import numpy as np\n",
    "import pandas as pd\n",
    "import re\n",
    "\n",
    "import matplotlib.pyplot as plt\n",
    "import matplotlib.image as mpimg\n",
    "\n",
    "from alpineer import io_utils\n",
    "\n",
    "from PIL import Image\n",
    "\n",
    "import skimage as ski"
   ]
  },
  {
   "cell_type": "code",
   "execution_count": 2,
   "id": "089b4ea8-52cf-4e44-bcd3-cb38c2061361",
   "metadata": {
    "tags": []
   },
   "outputs": [],
   "source": [
    "# Specify files/information for input\n",
    "## \n",
    "tiff_dir = '/c4/home/brford/HNSCC/HNLN/raw_data/'\n",
    "markers = ['PD-1','PD-L1']\n",
    "output_dir = '/c4/home/brford/HNSCC/HNLN/rlVectorAnalysis/'\n",
    "\n",
    "# Create the output directory if it doesn't exist\n",
    "if not os.path.exists(output_dir):\n",
    "    os.makedirs(output_dir)\n",
    "\n",
    "if not os.path.exists(output_dir + 'contour'):\n",
    "    os.makedirs(output_dir + 'contour')\n",
    "    \n",
    "if not os.path.exists(output_dir + 'png'):\n",
    "    os.makedirs(output_dir + 'png')\n",
    "    \n",
    "if not os.path.exists(output_dir + 'overlay'):\n",
    "    os.makedirs(output_dir + 'overlay')"
   ]
  },
  {
   "cell_type": "code",
   "execution_count": 3,
   "id": "ff30e63e-6b1e-4552-b48a-45b0e6716cbd",
   "metadata": {
    "tags": []
   },
   "outputs": [
    {
     "name": "stdout",
     "output_type": "stream",
     "text": [
      "/c4/home/brford/HNSCC/HNLN/raw_data/2022-03-09T08-59-38-fov-1-scan-1/PD-1.tiff\n",
      "/c4/home/brford/HNSCC/HNLN/raw_data/2022-03-09T08-59-38-fov-1-scan-1/PD-L1.tiff\n",
      "/c4/home/brford/HNSCC/HNLN/raw_data/2022-03-17T13-45-35-fov-2-scan-1/PD-1.tiff\n",
      "/c4/home/brford/HNSCC/HNLN/raw_data/2022-03-17T13-45-35-fov-2-scan-1/PD-L1.tiff\n",
      "/c4/home/brford/HNSCC/HNLN/raw_data/2022-03-21T22-45-42-fov-4-scan-1/PD-1.tiff\n",
      "/c4/home/brford/HNSCC/HNLN/raw_data/2022-03-21T22-45-42-fov-4-scan-1/PD-L1.tiff\n",
      "/c4/home/brford/HNSCC/HNLN/raw_data/2022-03-18T16-29-36-fov-5-scan-1/PD-1.tiff\n",
      "/c4/home/brford/HNSCC/HNLN/raw_data/2022-03-18T16-29-36-fov-5-scan-1/PD-L1.tiff\n",
      "/c4/home/brford/HNSCC/HNLN/raw_data/2022-03-21T11-08-40-fov-1-scan-1/PD-1.tiff\n",
      "/c4/home/brford/HNSCC/HNLN/raw_data/2022-03-21T11-08-40-fov-1-scan-1/PD-L1.tiff\n",
      "/c4/home/brford/HNSCC/HNLN/raw_data/2022-03-06T22-21-28-fov-2-scan-1/PD-1.tiff\n",
      "/c4/home/brford/HNSCC/HNLN/raw_data/2022-03-06T22-21-28-fov-2-scan-1/PD-L1.tiff\n",
      "/c4/home/brford/HNSCC/HNLN/raw_data/2022-03-20T21-27-57-fov-7-scan-1/PD-1.tiff\n",
      "/c4/home/brford/HNSCC/HNLN/raw_data/2022-03-20T21-27-57-fov-7-scan-1/PD-L1.tiff\n",
      "/c4/home/brford/HNSCC/HNLN/raw_data/2022-03-05T13-06-28-fov-5-scan-1/PD-1.tiff\n",
      "/c4/home/brford/HNSCC/HNLN/raw_data/2022-03-05T13-06-28-fov-5-scan-1/PD-L1.tiff\n",
      "/c4/home/brford/HNSCC/HNLN/raw_data/2022-03-09T08-59-38-fov-4-scan-1/PD-1.tiff\n",
      "/c4/home/brford/HNSCC/HNLN/raw_data/2022-03-09T08-59-38-fov-4-scan-1/PD-L1.tiff\n",
      "/c4/home/brford/HNSCC/HNLN/raw_data/2022-03-08T17-49-24-fov-2-scan-1/PD-1.tiff\n",
      "/c4/home/brford/HNSCC/HNLN/raw_data/2022-03-08T17-49-24-fov-2-scan-1/PD-L1.tiff\n"
     ]
    }
   ],
   "source": [
    "# Dictionary to store images with the same name\n",
    "image_dict = {}\n",
    "\n",
    "\n",
    "# Get a list of all directories (one per FOV) in parent directory\n",
    "fovs = os.listdir(tiff_dir)\n",
    "\n",
    "# Iterate through each marker and TIFF directory and make dictionary of PD-1 and PD-L1 signal for each X/Y coordinate for each FOV\n",
    "\n",
    "for fov in fovs:\n",
    "    imdf = pd.DataFrame()\n",
    "    for i in markers:\n",
    "        marker_tiff_name = i + '.tiff'\n",
    "        \n",
    "        \n",
    "        file_name = os.path.join(tiff_dir + fov + '/' + marker_tiff_name)\n",
    "        print(file_name)\n",
    "        image = Image.open(file_name)\n",
    "        imarray = np.array(image)\n",
    "        \n",
    "        result = []\n",
    "        \n",
    "        h, w = imarray.shape\n",
    "        for x in range(w):\n",
    "            for y in range(h):\n",
    "                result.append([x, y, imarray[x,y]])\n",
    "        \n",
    "        imdf_temp = pd.DataFrame(result,columns = ['X','Y',i])\n",
    "        if 'X' in imdf:\n",
    "            imdf = imdf.merge(imdf_temp, on = ['X','Y'])\n",
    "        else:\n",
    "            imdf = imdf_temp\n",
    "    \n",
    "    image_dict[fov] = imdf\n",
    "    "
   ]
  },
  {
   "cell_type": "code",
   "execution_count": 22,
   "id": "52d8e5bf-52f8-46d2-bd4a-278808d7c64c",
   "metadata": {},
   "outputs": [
    {
     "name": "stdout",
     "output_type": "stream",
     "text": [
      "PD-1 in 2022-03-09T08-59-38-fov-1-scan-1\n",
      "2022-03-09T08-59-38-fov-1-scan-1_PD-1_contour.tiff\n"
     ]
    },
    {
     "name": "stderr",
     "output_type": "stream",
     "text": [
      "/scratch/brford/1680556/ipykernel_118094/1071517061.py:26: DeprecationWarning: ANTIALIAS is deprecated and will be removed in Pillow 10 (2023-07-01). Use LANCZOS or Resampling.LANCZOS instead.\n",
      "  resized_img = image_1.resize((2048, 2048), Image.ANTIALIAS)\n"
     ]
    },
    {
     "name": "stdout",
     "output_type": "stream",
     "text": [
      "cycle completed for: PD-1 in 2022-03-09T08-59-38-fov-1-scan-1\n",
      "PD-L1 in 2022-03-09T08-59-38-fov-1-scan-1\n",
      "2022-03-09T08-59-38-fov-1-scan-1_PD-L1_contour.tiff\n",
      "cycle completed for: PD-L1 in 2022-03-09T08-59-38-fov-1-scan-1\n",
      "PD-1 in 2022-03-17T13-45-35-fov-2-scan-1\n",
      "2022-03-17T13-45-35-fov-2-scan-1_PD-1_contour.tiff\n",
      "cycle completed for: PD-1 in 2022-03-17T13-45-35-fov-2-scan-1\n",
      "PD-L1 in 2022-03-17T13-45-35-fov-2-scan-1\n",
      "2022-03-17T13-45-35-fov-2-scan-1_PD-L1_contour.tiff\n",
      "cycle completed for: PD-L1 in 2022-03-17T13-45-35-fov-2-scan-1\n",
      "PD-1 in 2022-03-21T22-45-42-fov-4-scan-1\n",
      "2022-03-21T22-45-42-fov-4-scan-1_PD-1_contour.tiff\n",
      "cycle completed for: PD-1 in 2022-03-21T22-45-42-fov-4-scan-1\n",
      "PD-L1 in 2022-03-21T22-45-42-fov-4-scan-1\n",
      "2022-03-21T22-45-42-fov-4-scan-1_PD-L1_contour.tiff\n",
      "cycle completed for: PD-L1 in 2022-03-21T22-45-42-fov-4-scan-1\n",
      "PD-1 in 2022-03-18T16-29-36-fov-5-scan-1\n",
      "2022-03-18T16-29-36-fov-5-scan-1_PD-1_contour.tiff\n",
      "cycle completed for: PD-1 in 2022-03-18T16-29-36-fov-5-scan-1\n",
      "PD-L1 in 2022-03-18T16-29-36-fov-5-scan-1\n",
      "2022-03-18T16-29-36-fov-5-scan-1_PD-L1_contour.tiff\n",
      "cycle completed for: PD-L1 in 2022-03-18T16-29-36-fov-5-scan-1\n",
      "PD-1 in 2022-03-21T11-08-40-fov-1-scan-1\n",
      "2022-03-21T11-08-40-fov-1-scan-1_PD-1_contour.tiff\n",
      "cycle completed for: PD-1 in 2022-03-21T11-08-40-fov-1-scan-1\n",
      "PD-L1 in 2022-03-21T11-08-40-fov-1-scan-1\n",
      "2022-03-21T11-08-40-fov-1-scan-1_PD-L1_contour.tiff\n",
      "cycle completed for: PD-L1 in 2022-03-21T11-08-40-fov-1-scan-1\n",
      "PD-1 in 2022-03-06T22-21-28-fov-2-scan-1\n",
      "2022-03-06T22-21-28-fov-2-scan-1_PD-1_contour.tiff\n",
      "cycle completed for: PD-1 in 2022-03-06T22-21-28-fov-2-scan-1\n",
      "PD-L1 in 2022-03-06T22-21-28-fov-2-scan-1\n",
      "2022-03-06T22-21-28-fov-2-scan-1_PD-L1_contour.tiff\n",
      "cycle completed for: PD-L1 in 2022-03-06T22-21-28-fov-2-scan-1\n",
      "PD-1 in 2022-03-20T21-27-57-fov-7-scan-1\n",
      "2022-03-20T21-27-57-fov-7-scan-1_PD-1_contour.tiff\n",
      "cycle completed for: PD-1 in 2022-03-20T21-27-57-fov-7-scan-1\n",
      "PD-L1 in 2022-03-20T21-27-57-fov-7-scan-1\n",
      "2022-03-20T21-27-57-fov-7-scan-1_PD-L1_contour.tiff\n",
      "cycle completed for: PD-L1 in 2022-03-20T21-27-57-fov-7-scan-1\n",
      "PD-1 in 2022-03-05T13-06-28-fov-5-scan-1\n",
      "2022-03-05T13-06-28-fov-5-scan-1_PD-1_contour.tiff\n",
      "cycle completed for: PD-1 in 2022-03-05T13-06-28-fov-5-scan-1\n",
      "PD-L1 in 2022-03-05T13-06-28-fov-5-scan-1\n",
      "2022-03-05T13-06-28-fov-5-scan-1_PD-L1_contour.tiff\n",
      "cycle completed for: PD-L1 in 2022-03-05T13-06-28-fov-5-scan-1\n",
      "PD-1 in 2022-03-09T08-59-38-fov-4-scan-1\n",
      "2022-03-09T08-59-38-fov-4-scan-1_PD-1_contour.tiff\n",
      "cycle completed for: PD-1 in 2022-03-09T08-59-38-fov-4-scan-1\n",
      "PD-L1 in 2022-03-09T08-59-38-fov-4-scan-1\n",
      "2022-03-09T08-59-38-fov-4-scan-1_PD-L1_contour.tiff\n",
      "cycle completed for: PD-L1 in 2022-03-09T08-59-38-fov-4-scan-1\n",
      "PD-1 in 2022-03-08T17-49-24-fov-2-scan-1\n",
      "2022-03-08T17-49-24-fov-2-scan-1_PD-1_contour.tiff\n",
      "cycle completed for: PD-1 in 2022-03-08T17-49-24-fov-2-scan-1\n",
      "PD-L1 in 2022-03-08T17-49-24-fov-2-scan-1\n",
      "2022-03-08T17-49-24-fov-2-scan-1_PD-L1_contour.tiff\n",
      "cycle completed for: PD-L1 in 2022-03-08T17-49-24-fov-2-scan-1\n"
     ]
    }
   ],
   "source": [
    "for fov in image_dict:\n",
    "    for i in markers:\n",
    "        print(i + \" in \" + fov)\n",
    "        \n",
    "        fov_df = image_dict[fov]\n",
    "        # Pivot the DataFrame\n",
    "        pivot_df = fov_df.pivot(index='X', columns='Y', values=i)\n",
    "\n",
    "        # Convert the pivot DataFrame to a NumPy array\n",
    "        numpy_array = pivot_df.to_numpy()\n",
    "        \n",
    "        file_name = \"\".join([fov,'_',i,'_contour.tiff'])\n",
    "        print(file_name)\n",
    "        # make contour plot\n",
    "        plt.figure(figsize=[20.48,20.48])\n",
    "        contour = plt.contour(numpy_array,[0.00275,0.00375,0.00475],colors = 'cyan',linewidths=0.1,origin = 'upper')\n",
    "\n",
    "        plt.subplot()\n",
    "        plt.subplots_adjust(left=0, bottom=0, right=1, top=1, wspace=0, hspace=0)\n",
    "        plt.axis('off')        \n",
    "\n",
    "        plt.savefig(os.path.join(output_dir,'contour',file_name),format='tiff',transparent=True,dpi=500)\n",
    "        plt.close()\n",
    "        \n",
    "        image_1 = Image.open(os.path.join(output_dir,'contour',file_name))\n",
    "        resized_img = image_1.resize((2048, 2048), Image.ANTIALIAS)\n",
    "        \n",
    "        # Open the original TIFF to overlay this contour plot with\n",
    "        image_2 = Image.open(os.path.join(tiff_dir,fov,i+'.tiff'))\n",
    "        imarray = np.array(image_2)\n",
    "        amplified_array = np.multiply(imarray, 10000)\n",
    "        amplified_image = Image.fromarray(amplified_array)\n",
    "        amplified_image = amplified_image.convert(\"RGBA\")\n",
    "        amplified_image.save(os.path.join(output_dir,'png',fov+'_'+i+'.png'), format='PNG')\n",
    "        \n",
    "        # Merge the images\n",
    "        blend = Image.blend(amplified_image,resized_img,0.5)\n",
    "        plt.imshow(blend)\n",
    "        \n",
    "        plt.subplot()\n",
    "        plt.subplots_adjust(left=0, bottom=0, right=1, top=1, wspace=0, hspace=0)\n",
    "        plt.axis('off')        \n",
    "\n",
    "        plt.savefig(os.path.join(output_dir,'overlay',fov + \"_\" + i + \".png\"),format='png',transparent=True,dpi=500)\n",
    "        plt.close()\n",
    "\n",
    "        print('cycle completed for: ' + i + \" in \" + fov)"
   ]
  },
  {
   "cell_type": "code",
   "execution_count": null,
   "id": "e1c920ad-043a-4c2d-8425-0e9228440eb1",
   "metadata": {
    "tags": []
   },
   "outputs": [],
   "source": []
  },
  {
   "cell_type": "code",
   "execution_count": null,
   "id": "a86cb54d-14dd-46eb-ab95-c97d1463d6dd",
   "metadata": {},
   "outputs": [],
   "source": []
  },
  {
   "cell_type": "code",
   "execution_count": null,
   "id": "9b75c5bf-74dd-46df-9741-cd84f998eca7",
   "metadata": {},
   "outputs": [],
   "source": []
  }
 ],
 "metadata": {
  "kernelspec": {
   "display_name": "Python 3 (ipykernel)",
   "language": "python",
   "name": "python3"
  },
  "language_info": {
   "codemirror_mode": {
    "name": "ipython",
    "version": 3
   },
   "file_extension": ".py",
   "mimetype": "text/x-python",
   "name": "python",
   "nbconvert_exporter": "python",
   "pygments_lexer": "ipython3",
   "version": "3.8.16"
  }
 },
 "nbformat": 4,
 "nbformat_minor": 5
}
